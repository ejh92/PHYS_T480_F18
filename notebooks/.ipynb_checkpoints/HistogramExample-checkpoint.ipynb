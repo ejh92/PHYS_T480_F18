{
 "cells": [
  {
   "cell_type": "markdown",
   "metadata": {
    "slideshow": {
     "slide_type": "slide"
    }
   },
   "source": [
    "# Making a Histogram is Easy, Right?  Right?\n",
    "\n",
    "G Richards  (with thanks to A. Miller, Z. Ivezic, and J. Vanderplas from whom I have taken various ideas/code and cribbed this together)\n",
    "\n",
    "---\n"
   ]
  },
  {
   "cell_type": "markdown",
   "metadata": {
    "slideshow": {
     "slide_type": "slide"
    }
   },
   "source": [
    "We are going to spend much of the next 2 weeks going over some basic of statistics and not doing a whole lot of actual machine learning.  So today is about giving you a flavor of the kinds of things that we'll be doing later in the course."
   ]
  },
  {
   "cell_type": "code",
   "execution_count": 1,
   "metadata": {
    "slideshow": {
     "slide_type": "slide"
    }
   },
   "outputs": [],
   "source": [
    "# Execute this cell\n",
    "# This is just to get some things setup for later\n",
    "import numpy as np\n",
    "import matplotlib.pyplot as plt\n",
    "from scipy import stats\n",
    "%matplotlib inline"
   ]
  },
  {
   "cell_type": "markdown",
   "metadata": {
    "slideshow": {
     "slide_type": "slide"
    }
   },
   "source": [
    "You have some one-dimensional (\"univariate\") data that you would like to try to understand.  Where by \"understand\" we mean \"know the distribution in the measured space\", i.e., you want to know the probability distribution function (PDF).  The easiest way to do that is to make a histogram.  Simple, right?\n",
    "\n",
    "Let's work through some examples to see what problems we encounter and how we might overcome them."
   ]
  },
  {
   "cell_type": "code",
   "execution_count": 2,
   "metadata": {
    "slideshow": {
     "slide_type": "slide"
    }
   },
   "outputs": [],
   "source": [
    "# Execute this cell to generate a univariate data array, x\n",
    "# this is the same data used in Ivezic, Figure 6.5\n",
    "np.random.seed(0)\n",
    "N = 1000\n",
    "mu_gamma_f = [(5, 1.0, 0.1),\n",
    "              (7, 0.5, 0.5),\n",
    "              (9, 0.1, 0.1),\n",
    "              (12, 0.5, 0.2),\n",
    "              (14, 1.0, 0.1)]\n",
    "true_pdf = lambda x: sum([f * stats.cauchy(mu, gamma).pdf(x)\n",
    "                          for (mu, gamma, f) in mu_gamma_f])\n",
    "x = np.concatenate([stats.cauchy(mu, gamma).rvs(int(f * N))\n",
    "                    for (mu, gamma, f) in mu_gamma_f])\n",
    "np.random.shuffle(x)\n",
    "x = x[x > -5]\n",
    "x = x[x < 25]"
   ]
  },
  {
   "cell_type": "markdown",
   "metadata": {
    "slideshow": {
     "slide_type": "slide"
    }
   },
   "source": [
    "Now let's take a first look at the data.  Use \n",
    "```python\n",
    "plt.hist()\n",
    "```\n",
    "where that function plots a histogram of any univariate data array given as an argument.  It takes lots of other arguments too.  See (http://matplotlib.org/api/pyplot_api.html?highlight=hist#matplotlib.pyplot.hist).  You might start with `histtype = \"step\"` so that we can later add information to the plot and still see the original histogram.  See what happens if you don't do this."
   ]
  },
  {
   "cell_type": "code",
   "execution_count": 3,
   "metadata": {
    "slideshow": {
     "slide_type": "slide"
    }
   },
   "outputs": [
    {
     "data": {
      "image/png": "[encoded data removed]",
      "text/plain": [
       "<Figure size 432x288 with 1 Axes>"
      ]
     },
     "metadata": {
      "needs_background": "light"
     },
     "output_type": "display_data"
    }
   ],
   "source": [
    "_ = plt.hist(x,histtype=\"step\") #Complete"
   ]
  },
  {
   "cell_type": "markdown",
   "metadata": {
    "slideshow": {
     "slide_type": "slide"
    }
   },
   "source": [
    "How would you characterize this distribution?  Could we reasonably think of it as a normal distribution that we could characterize by some mean and standard deviation?  Maybe, but even just by looking at this plot we see that it wouldn't be a particularly good description of the data.\n",
    "\n",
    "Now do what we would typically do in astronomy: try re-plotting the histogram a couple of different ways to see if it reveals anything more about the data.  Try using only 5 bins `bins=5`, 20 bins `bins=20`, and with left-centered bins `align = \"left\"` instead of 10 `\"mid\"` centered bins (which is the default) "
   ]
  },
  {
   "cell_type": "code",
   "execution_count": 4,
   "metadata": {
    "slideshow": {
     "slide_type": "slide"
    }
   },
   "outputs": [
    {
     "data": {
      "text/plain": [
       "(array([  8.,  16.,  66., 403., 185., 208.,  64.,  18.,   3.,   4.]),\n",
       " array([-3.19010277, -0.41373675,  2.36262928,  5.13899531,  7.91536133,\n",
       "        10.69172736, 13.46809338, 16.24445941, 19.02082544, 21.79719146,\n",
       "        24.57355749]),\n",
       " <a list of 1 Patch objects>)"
      ]
     },
     "execution_count": 4,
     "metadata": {},
     "output_type": "execute_result"
    },
    {
     "data": {
      "image/png": "[encoded data removed]",
      "text/plain": [
       "<Figure size 432x288 with 1 Axes>"
      ]
     },
     "metadata": {
      "needs_background": "light"
     },
     "output_type": "display_data"
    }
   ],
   "source": [
    "plt.hist(x,bins=5,histtype=\"step\") #Complete\n",
    "plt.hist(x,bins=20,histtype=\"step\") #Complete\n",
    "plt.hist(x,align=\"left\",histtype=\"step\") #Complete"
   ]
  },
  {
   "cell_type": "markdown",
   "metadata": {
    "slideshow": {
     "slide_type": "slide"
    }
   },
   "source": [
    "Note that the heights of these PDFs are all different!  That's because the y-axis only refers to the first histogram.  Try using `normed = True` so that the histograms are all normalized to 1.  "
   ]
  },
  {
   "cell_type": "code",
   "execution_count": 6,
   "metadata": {
    "slideshow": {
     "slide_type": "slide"
    }
   },
   "outputs": [
    {
     "data": {
      "text/plain": [
       "(array([0.00295535, 0.0059107 , 0.02438162, 0.14887566, 0.06834243,\n",
       "        0.07683905, 0.02364279, 0.00664953, 0.00110826, 0.00147767]),\n",
       " array([-3.19010277, -0.41373675,  2.36262928,  5.13899531,  7.91536133,\n",
       "        10.69172736, 13.46809338, 16.24445941, 19.02082544, 21.79719146,\n",
       "        24.57355749]),\n",
       " <a list of 1 Patch objects>)"
      ]
     },
     "execution_count": 6,
     "metadata": {},
     "output_type": "execute_result"
    },
    {
     "data": {
      "image/png": "[encoded data removed]",
      "text/plain": [
       "<Figure size 432x288 with 1 Axes>"
      ]
     },
     "metadata": {
      "needs_background": "light"
     },
     "output_type": "display_data"
    }
   ],
   "source": [
    "#plt.hist(x,bins=5,histtype=\"step\", normed=True) #Complete\n",
    "#plt.hist(x,bins=20,histtype=\"step\", normed=True) #Complete\n",
    "#plt.hist(x,align=\"left\",histtype=\"step\", normed=True) #Complete\n",
    "\n",
    "plt.hist(x,bins=5,histtype=\"step\", density=True) #Complete\n",
    "plt.hist(x,bins=20,histtype=\"step\", density=True) #Complete\n",
    "plt.hist(x,align=\"left\",histtype=\"step\", density=True) #Complete"
   ]
  },
  {
   "cell_type": "markdown",
   "metadata": {
    "slideshow": {
     "slide_type": "slide"
    }
   },
   "source": [
    "We find that small changes in parameters to the histogram function *significantly* change the PDF.  That's bad, because the underlying data clearly have **not** changed.\n",
    "\n",
    "One of the problems with histograms is that some bins end up with little (or no) data.  We can fix this by making variable-width bin sizes that have the same number of objects in each bin.  How can we do this?"
   ]
  },
  {
   "cell_type": "code",
   "execution_count": 8,
   "metadata": {
    "slideshow": {
     "slide_type": "slide"
    }
   },
   "outputs": [
    {
     "name": "stdout",
     "output_type": "stream",
     "text": [
      "[ 1.  2.  3.  4.  5.  6.  7.  8.  9. 10. 11. 12. 13. 14. 15. 16. 17. 18.\n",
      " 19. 20. 21. 22. 23. 24. 25. 26. 27. 28. 29. 30. 31. 32. 33. 34. 35. 36.\n",
      " 37. 38. 39. 40. 41. 42.]\n",
      "[ 1.  3.  5.  7.  9. 11. 13. 15. 17. 19. 21. 23. 25. 27. 29. 31. 33. 35.\n",
      " 37. 39. 41.]\n",
      "[ 1.  4.  7. 10. 13. 16. 19. 22. 25. 28. 31. 34. 37. 40.]\n"
     ]
    }
   ],
   "source": [
    "#Execute this cell\n",
    "a = np.linspace(1,42,num=42)\n",
    "print(a)\n",
    "print(a[::2])\n",
    "print(a[::3])"
   ]
  },
  {
   "cell_type": "markdown",
   "metadata": {
    "slideshow": {
     "slide_type": "slide"
    }
   },
   "source": [
    "If you are familiar with slicing, then you know that `[::2]` and `[::3]` say to count by 2 and count by 3.  But that isn't what they really do.  They say to take every other index of the array or every 3rd index of the array.  So, if your array is sorted (like `a` is), then you could use this to instead define the number of values in a bin.  That is for any given value of `M`\n",
    "\n",
    "    bins = np.append(np.sort(x)[::M], np.max(x))\n",
    "    \n",
    "would give bins with `M` objects in each bin.  \n",
    "\n",
    "So if `M=3` and \n",
    "\n",
    "    x = [1,3,5,7,9,11,13,21,29,35]\n",
    "    \n",
    "then \n",
    "    \n",
    "    bins = [1 7 13 35]\n",
    "\n",
    "Note that you need to add the maximum value to set the right edge of the last bin.  \n",
    "\n",
    "Try it for `M=100, 50, and 25`."
   ]
  },
  {
   "cell_type": "code",
   "execution_count": 9,
   "metadata": {
    "slideshow": {
     "slide_type": "slide"
    }
   },
   "outputs": [],
   "source": [
    "bins100 = np.append(np.sort(x)[::25], np.max(x)) #Complete\n",
    "bins50 = np.append(np.sort(x)[::50], np.max(x)) #Complete\n",
    "bins25 = np.append(np.sort(x)[::100], np.max(x)) #Complete"
   ]
  },
  {
   "cell_type": "code",
   "execution_count": 12,
   "metadata": {
    "slideshow": {
     "slide_type": "slide"
    }
   },
   "outputs": [
    {
     "name": "stderr",
     "output_type": "stream",
     "text": [
      "/home/dude/other/anaconda/anaconda3/envs/py36/lib/python3.6/site-packages/matplotlib/axes/_axes.py:6499: MatplotlibDeprecationWarning: \n",
      "The 'normed' kwarg was deprecated in Matplotlib 2.1 and will be removed in 3.1. Use 'density' instead.\n",
      "  alternative=\"'density'\", removal=\"3.1\")\n"
     ]
    },
    {
     "data": {
      "text/plain": [
       "(array([0.00455064, 0.01471101, 0.04189133, 0.05157755, 0.06126311,\n",
       "        0.06492475, 0.09575911, 0.20012184, 0.25124891, 0.22645182,\n",
       "        0.32467005, 0.32408739, 0.34497867, 0.24667071, 0.30022442,\n",
       "        0.2855609 , 0.24108444, 0.27465637, 0.10710025, 0.06909822,\n",
       "        0.05792297, 0.08847643, 0.1338127 , 0.41232508, 0.21221987,\n",
       "        0.04156167, 0.02978736, 0.04807353, 0.06680645, 0.1046578 ,\n",
       "        0.17769564, 0.14703935, 0.07862435, 0.07491466, 0.04687284,\n",
       "        0.04182698, 0.03138291, 0.01653255, 0.00310112]),\n",
       " array([-3.19010277,  2.4444927 ,  4.18747427,  4.7995586 ,  5.29669399,\n",
       "         5.71523338,  6.11016793,  6.37793384,  6.50606091,  6.60811519,\n",
       "         6.72134468,  6.80032033,  6.87943795,  6.95376436,  7.05771276,\n",
       "         7.14311896,  7.23291075,  7.33926778,  7.43262453,  7.67203598,\n",
       "         8.0431168 ,  8.48579137,  8.77559765,  8.96721642,  9.02940286,\n",
       "         9.15022578,  9.76716508, 10.62796742, 11.16133837, 11.54514898,\n",
       "        11.79014769, 11.93444513, 12.1088272 , 12.43494787, 12.77721765,\n",
       "        13.32425144, 13.93727737, 14.75431527, 16.30525769, 24.57355749]),\n",
       " <a list of 1 Patch objects>)"
      ]
     },
     "execution_count": 12,
     "metadata": {},
     "output_type": "execute_result"
    },
    {
     "data": {
      "image/png": "[encoded data removed]",
      "text/plain": [
       "<Figure size 432x288 with 1 Axes>"
      ]
     },
     "metadata": {
      "needs_background": "light"
     },
     "output_type": "display_data"
    }
   ],
   "source": [
    "plt.hist(x, bins=bins25, normed=True, histtype=\"step\") #Complete\n",
    "plt.hist(x, bins=bins50, normed=True, histtype=\"step\") #Complete\n",
    "plt.hist(x, bins=bins100, normed=True, histtype=\"step\") #Complete"
   ]
  },
  {
   "cell_type": "markdown",
   "metadata": {
    "slideshow": {
     "slide_type": "slide"
    }
   },
   "source": [
    "Again, this can look pretty different depending on what the number of objects you choose as the minimum for each bin and compared to the plots above.  And it looks a lot different from the plots above.\n",
    "\n",
    "So, what is the \"right\" way to set the bin size?\n",
    "\n",
    "There is no \"right\" way, but we'll encounter some suggestions in Chapter 4.  Let's take a quick look at them now."
   ]
  },
  {
   "cell_type": "markdown",
   "metadata": {
    "slideshow": {
     "slide_type": "slide"
    }
   },
   "source": [
    "\"Scott's rule\" suggests that the optimal bin width is \n",
    "$$\\Delta_b = \\frac{3.5\\sigma}{N^{1/3}}.$$\n",
    "\n",
    "That's great, but what if we don't know the standard deviation, $\\sigma$ (e.g., if the distribution isn't really Gaussian)?  We can then instead used the \"Freedman-Diaconis rule\": \n",
    "$$\\Delta_b = \\frac{2(q_{75}-q_{25})}{N^{1/3}} = \\frac{2.7\\sigma_G}{N^{1/3}}.$$  \n",
    "Let's try that, where $\\sigma_G$ is 0.7413 times the difference between the upper and lower quartiles, which you can determine with `np.percentile()`."
   ]
  },
  {
   "cell_type": "code",
   "execution_count": 14,
   "metadata": {
    "slideshow": {
     "slide_type": "slide"
    }
   },
   "outputs": [
    {
     "name": "stdout",
     "output_type": "stream",
     "text": [
      "3.658487027474095\n"
     ]
    }
   ],
   "source": [
    "q25 = np.percentile(x,25) #Complete\n",
    "q75 = np.percentile(x,75) #Complete\n",
    "#Or better yet\n",
    "q25,q75 = np.percentile(x,[25,75]) #Complete\n",
    "sigmaG = 0.7413*(q75-q25) #Complete\n",
    "print(sigmaG)"
   ]
  },
  {
   "cell_type": "markdown",
   "metadata": {
    "slideshow": {
     "slide_type": "slide"
    }
   },
   "source": [
    "Compare this to what you get using `stats.sigmaG()` from the astroML package.  You'll have to import stats from astroML and give it a different name since `stats` right now refers to `scipy.stats`."
   ]
  },
  {
   "cell_type": "code",
   "execution_count": 15,
   "metadata": {},
   "outputs": [
    {
     "name": "stdout",
     "output_type": "stream",
     "text": [
      "3.6584925018933356\n"
     ]
    }
   ],
   "source": [
    "from astroML import stats as astroMLstats\n",
    "sigmaG2 = astroMLstats.sigmaG(x)\n",
    "print(sigmaG2)"
   ]
  },
  {
   "cell_type": "markdown",
   "metadata": {
    "slideshow": {
     "slide_type": "slide"
    }
   },
   "source": [
    "Now set the bin size accordingly, using `np.arange()` and plot.  Make sure that you don't throw away the last object in data set!  How many bins do you get?  How does that compare to what we were using above?"
   ]
  },
  {
   "cell_type": "code",
   "execution_count": 17,
   "metadata": {
    "slideshow": {
     "slide_type": "slide"
    }
   },
   "outputs": [
    {
     "name": "stdout",
     "output_type": "stream",
     "text": [
      "0.9877929755112008\n",
      "30\n",
      "[-3.19010277 -2.2023098  -1.21451682 -0.22672384  0.76106913  1.74886211\n",
      "  2.73665508  3.72444806  4.71224103  5.70003401  6.68782698  7.67561996\n",
      "  8.66341294  9.65120591 10.63899889 11.62679186 12.61458484 13.60237781\n",
      " 14.59017079 15.57796376 16.56575674 17.55354971 18.54134269 19.52913567\n",
      " 20.51692864 21.50472162 22.49251459 23.48030757 24.46810054 24.57355749]\n"
     ]
    }
   ],
   "source": [
    "binsize = 2.7*sigmaG2/(N**(1/3)) #Complete\n",
    "print(binsize)\n",
    "bins = np.append(np.arange(start=x.min(),stop=x.max(),step=binsize),x.max()) #Complete\n",
    "print(len(bins))\n",
    "print(bins)"
   ]
  },
  {
   "cell_type": "code",
   "execution_count": 18,
   "metadata": {
    "slideshow": {
     "slide_type": "slide"
    }
   },
   "outputs": [
    {
     "name": "stderr",
     "output_type": "stream",
     "text": [
      "/home/dude/other/anaconda/anaconda3/envs/py36/lib/python3.6/site-packages/matplotlib/axes/_axes.py:6499: MatplotlibDeprecationWarning: \n",
      "The 'normed' kwarg was deprecated in Matplotlib 2.1 and will be removed in 3.1. Use 'density' instead.\n",
      "  alternative=\"'density'\", removal=\"3.1\")\n"
     ]
    },
    {
     "data": {
      "text/plain": [
       "(array([0.00519158, 0.00207663, 0.00103832, 0.00519158, 0.00311495,\n",
       "        0.01557474, 0.01142147, 0.02907284, 0.05606905, 0.12563621,\n",
       "        0.23985094, 0.06333726, 0.11525305, 0.02907284, 0.059184  ,\n",
       "        0.11109979, 0.05503074, 0.03218779, 0.02180463, 0.00934484,\n",
       "        0.00726821, 0.00519158, 0.00415326, 0.00103832, 0.        ,\n",
       "        0.00103832, 0.00207663, 0.        , 0.00972569]),\n",
       " array([-3.19010277, -2.2023098 , -1.21451682, -0.22672384,  0.76106913,\n",
       "         1.74886211,  2.73665508,  3.72444806,  4.71224103,  5.70003401,\n",
       "         6.68782698,  7.67561996,  8.66341294,  9.65120591, 10.63899889,\n",
       "        11.62679186, 12.61458484, 13.60237781, 14.59017079, 15.57796376,\n",
       "        16.56575674, 17.55354971, 18.54134269, 19.52913567, 20.51692864,\n",
       "        21.50472162, 22.49251459, 23.48030757, 24.46810054, 24.57355749]),\n",
       " <a list of 1 Patch objects>)"
      ]
     },
     "execution_count": 18,
     "metadata": {},
     "output_type": "execute_result"
    },
    {
     "data": {
      "image/png": "[encoded data removed]",
      "text/plain": [
       "<Figure size 432x288 with 1 Axes>"
      ]
     },
     "metadata": {
      "needs_background": "light"
     },
     "output_type": "display_data"
    }
   ],
   "source": [
    "plt.hist(x,bins=bins,histtype=\"step\",normed=True) #Complete   "
   ]
  },
  {
   "cell_type": "markdown",
   "metadata": {
    "slideshow": {
     "slide_type": "slide"
    }
   },
   "source": [
    "Did you find that tedious?  Me too.  Fortunately there is a shortcut!  Try it."
   ]
  },
  {
   "cell_type": "code",
   "execution_count": 19,
   "metadata": {
    "slideshow": {
     "slide_type": "slide"
    }
   },
   "outputs": [
    {
     "data": {
      "text/plain": [
       "(array([  5.,   2.,   2.,   4.,   5.,  13.,  12.,  32.,  53., 139., 218.,\n",
       "         66., 101.,  29.,  67., 102.,  45.,  32.,  21.,   9.,   4.,   7.,\n",
       "          2.,   1.,   0.,   1.,   2.,   1.]),\n",
       " array([-3.19010277, -2.19225827, -1.19441378, -0.19656928,  0.80127522,\n",
       "         1.79911971,  2.79696421,  3.79480871,  4.7926532 ,  5.7904977 ,\n",
       "         6.78834219,  7.78618669,  8.78403119,  9.78187568, 10.77972018,\n",
       "        11.77756468, 12.77540917, 13.77325367, 14.77109817, 15.76894266,\n",
       "        16.76678716, 17.76463166, 18.76247615, 19.76032065, 20.75816515,\n",
       "        21.75600964, 22.75385414, 23.75169864, 24.74954313]),\n",
       " <a list of 1 Patch objects>)"
      ]
     },
     "execution_count": 19,
     "metadata": {},
     "output_type": "execute_result"
    },
    {
     "data": {
      "image/png": "[encoded data removed]",
      "text/plain": [
       "<Figure size 432x288 with 1 Axes>"
      ]
     },
     "metadata": {
      "needs_background": "light"
     },
     "output_type": "display_data"
    }
   ],
   "source": [
    "from astroML.plotting import hist as fancyhist\n",
    "fancyhist(x, bins=\"scott\", histtype=\"step\")\n",
    "fancyhist(x, bins=\"freedman\", histtype=\"step\")"
   ]
  },
  {
   "cell_type": "markdown",
   "metadata": {
    "slideshow": {
     "slide_type": "slide"
    }
   },
   "source": [
    "But note that even those don't yield quite the same results!  But we can do better!\n",
    "\n",
    "An obvious thing to do is to simply show all of the data."
   ]
  },
  {
   "cell_type": "code",
   "execution_count": 20,
   "metadata": {
    "slideshow": {
     "slide_type": "slide"
    }
   },
   "outputs": [
    {
     "data": {
      "text/plain": [
       "[<matplotlib.lines.Line2D at 0x7f911f1f8668>]"
      ]
     },
     "execution_count": 20,
     "metadata": {},
     "output_type": "execute_result"
    },
    {
     "data": {
      "image/png": "[encoded data removed]",
      "text/plain": [
       "<Figure size 432x288 with 1 Axes>"
      ]
     },
     "metadata": {
      "needs_background": "light"
     },
     "output_type": "display_data"
    }
   ],
   "source": [
    "# execute this cell\n",
    "plt.hist(x,histtype=\"step\")\n",
    "plt.plot(x, 0*x, '|', color='k', markersize=25) #Note markersize is (annoyingly) in *points*"
   ]
  },
  {
   "cell_type": "markdown",
   "metadata": {
    "slideshow": {
     "slide_type": "slide"
    }
   },
   "source": [
    "This is called a rug plot and now we have a better idea of where most of the data and where the gaps really are (as opposed to where the binning makes them *appear* to be).  However, the markers are all piled up, so we have lost all sense of the relative numbers of objects.  Are there ~10 at x=5 or could there be 100?\n",
    "\n",
    "This is where [Kernel Density Estimation](https://en.wikipedia.org/wiki/Kernel_density_estimation) (KDE) comes in.  (As a side note, KDE is the core of the quasar classification work that I do, which is how I got into this machine learning business in the first place.  Way before it was popular I might add!)  In short the idea here is to represent each data point not as a delta function, but rather as a distribution (e.g., a Gaussian).  Then those distributions (\"kernels\") are summed up to produce the PDF.  One of the advantages of this is that it combines the best of 1) the histogram and 2) the rug plot: where 1) tells us the relative height of the distribution and 2) centers the data points at the actual location of the data instead of within some arbitrary bin.\n",
    "\n",
    "Just about any distribution can be used as the kernel, but the most common are a Gaussian kernal and an Epanechnikov kernel.  One downside of the Gaussian kernel is that the tails are technically infinite in extent.  So each point has some finite probability of being *everywhere*.  The Epanechnikov kernel has truncated wings.  \n",
    "\n",
    "One still has the problem of deciding the width of the kernel (e.g., for the Gaussian the \"mean\" is fixed at the value of the point, but how wide should you make the Gaussian?).  For my work, we do this with a self-test of the data.  Specifically, what is the optimal width such that objects with a known classification are indeed given that classification by our machine learning algorithm.  But that is the topic for another day.  For now, we'll just play with the widths by hand to see what might work best.  N.B. the widths of the kernel distribution are referred to as \"bandwidth\"."
   ]
  },
  {
   "cell_type": "code",
   "execution_count": 21,
   "metadata": {
    "slideshow": {
     "slide_type": "slide"
    }
   },
   "outputs": [],
   "source": [
    "# execute this cell to load the KDE module\n",
    "# No need to try to understand what is going on here now, we'll come back to this later.\n",
    "# But see the note below\n",
    "from sklearn.neighbors import KernelDensity\n",
    "xplot = np.linspace(x.min(),x.max(),1000)  # Use this instead of 'x' for plotting\n",
    "def kde_sklearn(data, bandwidth = 1.0, kernel=\"linear\"):\n",
    "    kde_skl = KernelDensity(bandwidth = bandwidth, kernel=kernel)\n",
    "    kde_skl.fit(data[:, np.newaxis])\n",
    "    log_pdf = kde_skl.score_samples(xplot[:, np.newaxis]) # sklearn returns log(density)\n",
    "\n",
    "    return np.exp(log_pdf)"
   ]
  },
  {
   "cell_type": "markdown",
   "metadata": {
    "slideshow": {
     "slide_type": "slide"
    }
   },
   "source": [
    "Before we try the Gaussian and Epanechnikov kernels, let's first start with a tophat using `kernel = \"tophat\"`, which will produce a plot much like the rug plot.\n",
    "\n",
    "Start with `bandwidth=0.01`.  See what happens when you adjust this."
   ]
  },
  {
   "cell_type": "code",
   "execution_count": 27,
   "metadata": {
    "slideshow": {
     "slide_type": "slide"
    }
   },
   "outputs": [
    {
     "data": {
      "text/plain": [
       "[<matplotlib.lines.Line2D at 0x7f911ef420f0>]"
      ]
     },
     "execution_count": 27,
     "metadata": {},
     "output_type": "execute_result"
    },
    {
     "data": {
      "image/png": "[encoded data removed]",
      "text/plain": [
       "<Figure size 432x288 with 1 Axes>"
      ]
     },
     "metadata": {
      "needs_background": "light"
     },
     "output_type": "display_data"
    }
   ],
   "source": [
    "PDFtophat = kde_sklearn(x,bandwidth=0.01,kernel=\"tophat\") #Complete\n",
    "plt.plot(xplot,PDFtophat) #Complete\n",
    "# PDFtophat"
   ]
  },
  {
   "cell_type": "markdown",
   "metadata": {
    "slideshow": {
     "slide_type": "slide"
    }
   },
   "source": [
    "The defaults give a result that is essentially what you would get if you made a histogram with a really large number of bins.\n",
    "\n",
    "Now let's compare what happens when we adjust the bandwidth (which is just the width of the kernel function).  Try \n",
    "`bandwidth=0.1` and `bandwidth=0.5`."
   ]
  },
  {
   "cell_type": "code",
   "execution_count": 32,
   "metadata": {
    "slideshow": {
     "slide_type": "slide"
    }
   },
   "outputs": [
    {
     "data": {
      "text/plain": [
       "<matplotlib.legend.Legend at 0x7f911ee79470>"
      ]
     },
     "execution_count": 32,
     "metadata": {},
     "output_type": "execute_result"
    },
    {
     "data": {
      "image/png": "[encoded data removed]",
      "text/plain": [
       "<Figure size 432x288 with 1 Axes>"
      ]
     },
     "metadata": {
      "needs_background": "light"
     },
     "output_type": "display_data"
    }
   ],
   "source": [
    "PDFtophat1 = kde_sklearn(x,bandwidth=0.1,kernel=\"tophat\") #Complete\n",
    "plt.plot(xplot,PDFtophat1, label=\"width=0.1\") #Complete\n",
    "\n",
    "PDFtophat5 = kde_sklearn(x,bandwidth=0.5,kernel=\"tophat\") #Complete\n",
    "plt.plot(xplot,PDFtophat5, label=\"width=0.5\") #Complete\n",
    "\n",
    "plt.legend(loc=\"upper left\")"
   ]
  },
  {
   "cell_type": "markdown",
   "metadata": {
    "slideshow": {
     "slide_type": "slide"
    }
   },
   "source": [
    "Now let's see what we get with the Gaussian `kernel=\"gaussian\"` and Epanechnikov `kernel=\"epanechnikov\"` kernels.  Play with the bandwidths until you get something that looks reasonable (and roughly matches) for the two kernels.  They need not be the same."
   ]
  },
  {
   "cell_type": "code",
   "execution_count": null,
   "metadata": {
    "collapsed": true,
    "slideshow": {
     "slide_type": "slide"
    }
   },
   "outputs": [],
   "source": [
    "PDFgaussian = kde_sklearn(____,bandwidth=____,kernel=\"____\") #Complete \n",
    "PDFepanechnikov = ____(____,____,____) #Complete\n",
    "plt.plot(xplot,PDFgaussian,label=\"____\") #Complete\n",
    "plt.plot(____,____,____) #Complete\n",
    "plt.legend(____) #Complete"
   ]
  },
  {
   "cell_type": "markdown",
   "metadata": {
    "slideshow": {
     "slide_type": "slide"
    }
   },
   "source": [
    "This is pretty different from the histogram that we started out with, isn't it?"
   ]
  },
  {
   "cell_type": "markdown",
   "metadata": {
    "slideshow": {
     "slide_type": "slide"
    }
   },
   "source": [
    "Lastly, we have used 1000 points, so you aren't seeing the kernel shape for the individual points.  Try remaking $x$ with only `N=15` points and see what this looks like.  Adjust the figure size (using `figsize`), the bandwidth and the axis limits until you can see the differences between the two kernels.  Play with the bandwidths to see what affect they have now that you can see the individual kernels."
   ]
  },
  {
   "cell_type": "code",
   "execution_count": 1,
   "metadata": {
    "slideshow": {
     "slide_type": "slide"
    }
   },
   "outputs": [],
   "source": [
    "#Redefine \"x\" using the code from the cell above and N=15"
   ]
  },
  {
   "cell_type": "code",
   "execution_count": null,
   "metadata": {
    "slideshow": {
     "slide_type": "slide"
    }
   },
   "outputs": [],
   "source": [
    "#Make a plot that illustrates the shape of the kernel\n",
    "plt.figure(figsize=(____,____)) #Complete\n",
    "PDFgaussian = kde_sklearn(_____,_____,_____) #Complete\n",
    "PDFepanechnikov = ____(_____,_____,_____) #Complete\n",
    "plt.plot(xplot,PDFgaussian,label=\"___\") #Complete\n",
    "plt.plot(____,____,____) #Complete\n",
    "plt.legend(____) #Complete\n",
    "plt.xlim((____,____)) #Complete"
   ]
  }
 ],
 "metadata": {
  "anaconda-cloud": {},
  "celltoolbar": "Slideshow",
  "kernelspec": {
   "display_name": "Python 3",
   "language": "python",
   "name": "python3"
  },
  "language_info": {
   "codemirror_mode": {
    "name": "ipython",
    "version": 3
   },
   "file_extension": ".py",
   "mimetype": "text/x-python",
   "name": "python",
   "nbconvert_exporter": "python",
   "pygments_lexer": "ipython3",
   "version": "3.6.6"
  }
 },
 "nbformat": 4,
 "nbformat_minor": 1
}
